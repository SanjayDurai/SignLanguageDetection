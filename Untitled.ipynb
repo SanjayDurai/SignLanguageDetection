{
 "cells": [
  {
   "cell_type": "code",
   "execution_count": 2,
   "id": "43ce7f18-6209-4e19-b050-f81e1a92543b",
   "metadata": {},
   "outputs": [
    {
     "name": "stdout",
     "output_type": "stream",
     "text": [
      "D:\\Sanjay\\PROJECTS\\SIGN-LANG-DETECTION\\yolov5\n"
     ]
    },
    {
     "name": "stderr",
     "output_type": "stream",
     "text": [
      "Cloning into 'yolov5'...\n"
     ]
    },
    {
     "name": "stdout",
     "output_type": "stream",
     "text": [
      "Requirement already satisfied: gitpython>=3.1.30 in c:\\users\\sanja\\.conda\\envs\\detection\\lib\\site-packages (from -r requirements.txt (line 5)) (3.1.43)\n",
      "Requirement already satisfied: matplotlib>=3.3 in c:\\users\\sanja\\.conda\\envs\\detection\\lib\\site-packages (from -r requirements.txt (line 6)) (3.7.2)\n",
      "Requirement already satisfied: numpy>=1.23.5 in c:\\users\\sanja\\.conda\\envs\\detection\\lib\\site-packages (from -r requirements.txt (line 7)) (1.24.3)\n",
      "Collecting opencv-python>=4.1.1 (from -r requirements.txt (line 8))\n",
      "  Using cached opencv_python-4.10.0.84-cp37-abi3-win_amd64.whl.metadata (20 kB)\n",
      "Requirement already satisfied: pillow>=10.3.0 in c:\\users\\sanja\\.conda\\envs\\detection\\lib\\site-packages (from -r requirements.txt (line 9)) (10.4.0)\n",
      "Requirement already satisfied: psutil in c:\\users\\sanja\\.conda\\envs\\detection\\lib\\site-packages (from -r requirements.txt (line 10)) (5.9.0)\n",
      "Requirement already satisfied: PyYAML>=5.3.1 in c:\\users\\sanja\\.conda\\envs\\detection\\lib\\site-packages (from -r requirements.txt (line 11)) (6.0.1)\n",
      "Requirement already satisfied: requests>=2.32.2 in c:\\users\\sanja\\.conda\\envs\\detection\\lib\\site-packages (from -r requirements.txt (line 12)) (2.32.3)\n",
      "Requirement already satisfied: scipy>=1.4.1 in c:\\users\\sanja\\.conda\\envs\\detection\\lib\\site-packages (from -r requirements.txt (line 13)) (1.9.1)\n",
      "Collecting thop>=0.1.1 (from -r requirements.txt (line 14))\n",
      "  Using cached thop-0.1.1.post2209072238-py3-none-any.whl.metadata (2.7 kB)\n",
      "Collecting torch>=1.8.0 (from -r requirements.txt (line 15))\n",
      "  Downloading torch-2.4.1-cp38-cp38-win_amd64.whl.metadata (27 kB)\n",
      "Collecting torchvision>=0.9.0 (from -r requirements.txt (line 16))\n",
      "  Downloading torchvision-0.19.1-cp38-cp38-win_amd64.whl.metadata (6.1 kB)\n",
      "Requirement already satisfied: tqdm>=4.66.3 in c:\\users\\sanja\\.conda\\envs\\detection\\lib\\site-packages (from -r requirements.txt (line 17)) (4.66.5)\n",
      "Collecting ultralytics>=8.2.34 (from -r requirements.txt (line 18))\n",
      "  Downloading ultralytics-8.3.23-py3-none-any.whl.metadata (35 kB)\n",
      "Requirement already satisfied: pandas>=1.1.4 in c:\\users\\sanja\\.conda\\envs\\detection\\lib\\site-packages (from -r requirements.txt (line 27)) (2.0.3)\n",
      "Requirement already satisfied: seaborn>=0.11.0 in c:\\users\\sanja\\.conda\\envs\\detection\\lib\\site-packages (from -r requirements.txt (line 28)) (0.13.2)\n",
      "Requirement already satisfied: setuptools>=70.0.0 in c:\\users\\sanja\\.conda\\envs\\detection\\lib\\site-packages (from -r requirements.txt (line 42)) (75.1.0)\n",
      "Requirement already satisfied: gitdb<5,>=4.0.1 in c:\\users\\sanja\\.conda\\envs\\detection\\lib\\site-packages (from gitpython>=3.1.30->-r requirements.txt (line 5)) (4.0.7)\n",
      "Requirement already satisfied: contourpy>=1.0.1 in c:\\users\\sanja\\.conda\\envs\\detection\\lib\\site-packages (from matplotlib>=3.3->-r requirements.txt (line 6)) (1.0.5)\n",
      "Requirement already satisfied: cycler>=0.10 in c:\\users\\sanja\\.conda\\envs\\detection\\lib\\site-packages (from matplotlib>=3.3->-r requirements.txt (line 6)) (0.11.0)\n",
      "Requirement already satisfied: fonttools>=4.22.0 in c:\\users\\sanja\\.conda\\envs\\detection\\lib\\site-packages (from matplotlib>=3.3->-r requirements.txt (line 6)) (4.51.0)\n",
      "Requirement already satisfied: kiwisolver>=1.0.1 in c:\\users\\sanja\\.conda\\envs\\detection\\lib\\site-packages (from matplotlib>=3.3->-r requirements.txt (line 6)) (1.4.4)\n",
      "Requirement already satisfied: packaging>=20.0 in c:\\users\\sanja\\.conda\\envs\\detection\\lib\\site-packages (from matplotlib>=3.3->-r requirements.txt (line 6)) (24.1)\n",
      "Requirement already satisfied: pyparsing<3.1,>=2.3.1 in c:\\users\\sanja\\.conda\\envs\\detection\\lib\\site-packages (from matplotlib>=3.3->-r requirements.txt (line 6)) (3.0.9)\n",
      "Requirement already satisfied: python-dateutil>=2.7 in c:\\users\\sanja\\.conda\\envs\\detection\\lib\\site-packages (from matplotlib>=3.3->-r requirements.txt (line 6)) (2.9.0.post0)\n",
      "Requirement already satisfied: importlib-resources>=3.2.0 in c:\\users\\sanja\\.conda\\envs\\detection\\lib\\site-packages (from matplotlib>=3.3->-r requirements.txt (line 6)) (6.4.0)\n",
      "Requirement already satisfied: charset-normalizer<4,>=2 in c:\\users\\sanja\\.conda\\envs\\detection\\lib\\site-packages (from requests>=2.32.2->-r requirements.txt (line 12)) (3.3.2)\n",
      "Requirement already satisfied: idna<4,>=2.5 in c:\\users\\sanja\\.conda\\envs\\detection\\lib\\site-packages (from requests>=2.32.2->-r requirements.txt (line 12)) (3.7)\n",
      "Requirement already satisfied: urllib3<3,>=1.21.1 in c:\\users\\sanja\\.conda\\envs\\detection\\lib\\site-packages (from requests>=2.32.2->-r requirements.txt (line 12)) (1.26.19)\n",
      "Requirement already satisfied: certifi>=2017.4.17 in c:\\users\\sanja\\.conda\\envs\\detection\\lib\\site-packages (from requests>=2.32.2->-r requirements.txt (line 12)) (2024.8.30)\n",
      "Requirement already satisfied: filelock in c:\\users\\sanja\\.conda\\envs\\detection\\lib\\site-packages (from torch>=1.8.0->-r requirements.txt (line 15)) (3.13.1)\n",
      "Requirement already satisfied: typing-extensions>=4.8.0 in c:\\users\\sanja\\.conda\\envs\\detection\\lib\\site-packages (from torch>=1.8.0->-r requirements.txt (line 15)) (4.11.0)\n",
      "Requirement already satisfied: sympy in c:\\users\\sanja\\.conda\\envs\\detection\\lib\\site-packages (from torch>=1.8.0->-r requirements.txt (line 15)) (1.13.2)\n",
      "Requirement already satisfied: networkx in c:\\users\\sanja\\.conda\\envs\\detection\\lib\\site-packages (from torch>=1.8.0->-r requirements.txt (line 15)) (3.1)\n",
      "Requirement already satisfied: jinja2 in c:\\users\\sanja\\.conda\\envs\\detection\\lib\\site-packages (from torch>=1.8.0->-r requirements.txt (line 15)) (3.1.4)\n",
      "Requirement already satisfied: fsspec in c:\\users\\sanja\\.conda\\envs\\detection\\lib\\site-packages (from torch>=1.8.0->-r requirements.txt (line 15)) (2024.6.1)\n",
      "Requirement already satisfied: colorama in c:\\users\\sanja\\.conda\\envs\\detection\\lib\\site-packages (from tqdm>=4.66.3->-r requirements.txt (line 17)) (0.4.6)\n",
      "Requirement already satisfied: py-cpuinfo in c:\\users\\sanja\\.conda\\envs\\detection\\lib\\site-packages (from ultralytics>=8.2.34->-r requirements.txt (line 18)) (9.0.0)\n",
      "Collecting ultralytics-thop>=2.0.0 (from ultralytics>=8.2.34->-r requirements.txt (line 18))\n",
      "  Downloading ultralytics_thop-2.0.9-py3-none-any.whl.metadata (9.3 kB)\n",
      "Requirement already satisfied: pytz>=2020.1 in c:\\users\\sanja\\.conda\\envs\\detection\\lib\\site-packages (from pandas>=1.1.4->-r requirements.txt (line 27)) (2024.1)\n",
      "Requirement already satisfied: tzdata>=2022.1 in c:\\users\\sanja\\.conda\\envs\\detection\\lib\\site-packages (from pandas>=1.1.4->-r requirements.txt (line 27)) (2023.3)\n",
      "Requirement already satisfied: smmap<5,>=3.0.1 in c:\\users\\sanja\\.conda\\envs\\detection\\lib\\site-packages (from gitdb<5,>=4.0.1->gitpython>=3.1.30->-r requirements.txt (line 5)) (4.0.0)\n",
      "Requirement already satisfied: zipp>=3.1.0 in c:\\users\\sanja\\.conda\\envs\\detection\\lib\\site-packages (from importlib-resources>=3.2.0->matplotlib>=3.3->-r requirements.txt (line 6)) (3.17.0)\n",
      "Requirement already satisfied: six>=1.5 in c:\\users\\sanja\\.conda\\envs\\detection\\lib\\site-packages (from python-dateutil>=2.7->matplotlib>=3.3->-r requirements.txt (line 6)) (1.16.0)\n",
      "Requirement already satisfied: MarkupSafe>=2.0 in c:\\users\\sanja\\.conda\\envs\\detection\\lib\\site-packages (from jinja2->torch>=1.8.0->-r requirements.txt (line 15)) (2.1.3)\n",
      "Requirement already satisfied: mpmath<1.4,>=1.1.0 in c:\\users\\sanja\\.conda\\envs\\detection\\lib\\site-packages (from sympy->torch>=1.8.0->-r requirements.txt (line 15)) (1.3.0)\n",
      "Using cached opencv_python-4.10.0.84-cp37-abi3-win_amd64.whl (38.8 MB)\n",
      "Using cached thop-0.1.1.post2209072238-py3-none-any.whl (15 kB)\n",
      "Downloading torch-2.4.1-cp38-cp38-win_amd64.whl (199.4 MB)\n",
      "   ---------------------------------------- 199.4/199.4 MB 8.8 MB/s eta 0:00:00\n",
      "Downloading torchvision-0.19.1-cp38-cp38-win_amd64.whl (1.3 MB)\n",
      "   ---------------------------------------- 1.3/1.3 MB 3.3 MB/s eta 0:00:00\n",
      "Downloading ultralytics-8.3.23-py3-none-any.whl (877 kB)\n",
      "   ---------------------------------------- 877.6/877.6 kB 3.0 MB/s eta 0:00:00\n",
      "Downloading ultralytics_thop-2.0.9-py3-none-any.whl (26 kB)\n",
      "Installing collected packages: opencv-python, torch, ultralytics-thop, torchvision, thop, ultralytics\n",
      "Successfully installed opencv-python-4.10.0.84 thop-0.1.1.post2209072238 torch-2.4.1 torchvision-0.19.1 ultralytics-8.3.23 ultralytics-thop-2.0.9\n"
     ]
    }
   ],
   "source": [
    "!git clone https://github.com/ultralytics/yolov5  \n",
    "%cd yolov5\n",
    "!pip install -r requirements.txt \n"
   ]
  },
  {
   "cell_type": "code",
   "execution_count": 2,
   "id": "001fa5b7-1b0e-45bb-86de-285816a6c51a",
   "metadata": {},
   "outputs": [],
   "source": [
    "import torch\n",
    "from IPython.display import Image\n",
    "\n",
    "\n"
   ]
  },
  {
   "cell_type": "code",
   "execution_count": null,
   "id": "e7963288-85ec-4c76-a9d5-90e4a8790484",
   "metadata": {},
   "outputs": [],
   "source": [
    "!python yolov5/train.py --data sign_language.yaml --weights yolov5s.pt --epochs 50 --img 640\n"
   ]
  },
  {
   "cell_type": "code",
   "execution_count": null,
   "id": "62480760-0784-4771-a87e-1cc23679869b",
   "metadata": {},
   "outputs": [],
   "source": []
  }
 ],
 "metadata": {
  "kernelspec": {
   "display_name": "Python 3 (ipykernel)",
   "language": "python",
   "name": "python3"
  },
  "language_info": {
   "codemirror_mode": {
    "name": "ipython",
    "version": 3
   },
   "file_extension": ".py",
   "mimetype": "text/x-python",
   "name": "python",
   "nbconvert_exporter": "python",
   "pygments_lexer": "ipython3",
   "version": "3.8.20"
  }
 },
 "nbformat": 4,
 "nbformat_minor": 5
}
